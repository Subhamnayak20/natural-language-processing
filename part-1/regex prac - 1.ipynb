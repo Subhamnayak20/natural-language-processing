{
 "cells": [
  {
   "cell_type": "code",
   "execution_count": 1,
   "id": "48d9709b-dafd-405e-8df1-37045677810b",
   "metadata": {},
   "outputs": [],
   "source": [
    "import re\n"
   ]
  },
  {
   "cell_type": "code",
   "execution_count": 3,
   "id": "ff811ab1-cd40-4504-8aae-38e7597655be",
   "metadata": {},
   "outputs": [
    {
     "data": {
      "text/plain": [
       "['ajd', 'hjy', 'hgy', 'ghu']"
      ]
     },
     "execution_count": 3,
     "metadata": {},
     "output_type": "execute_result"
    }
   ],
   "source": [
    "string = '''ajd;hjy-hgy-ghu;'''\n",
    "\n",
    "pattern = \"[^;-]+\"\n",
    "\n",
    "re.findall(pattern, string)"
   ]
  },
  {
   "cell_type": "code",
   "execution_count": 10,
   "id": "ca59a080-f601-4e0b-9404-94c41819e80b",
   "metadata": {
    "editable": true,
    "slideshow": {
     "slide_type": ""
    },
    "tags": []
   },
   "outputs": [
    {
     "data": {
      "text/plain": [
       "['hello']"
      ]
     },
     "execution_count": 10,
     "metadata": {},
     "output_type": "execute_result"
    }
   ],
   "source": [
    "text = '''hello world!!! python is a beautiful language!\n",
    "        I have started learning python in 2005.\n",
    "        Here is my lucky number 24.\n",
    "        here is my email: email@email.com and info@kgptalkie.com and \n",
    "        udemy@kgptalkie.com\n",
    "hii\n",
    "hene\n",
    "held\n",
    "where\n",
    "when\n",
    "why'''\n",
    "\n",
    "pattern = r\"(^h[a-z]+)\"\n",
    "result = re.findall(pattern, text)\n",
    "result"
   ]
  },
  {
   "cell_type": "code",
   "execution_count": 13,
   "id": "866f4306-1feb-4ac2-a219-28cde1f37b36",
   "metadata": {},
   "outputs": [
    {
     "data": {
      "text/plain": [
       "['email@email.com', 'info@kgptalkie.com', 'udemy@kgptalkie.com']"
      ]
     },
     "execution_count": 13,
     "metadata": {},
     "output_type": "execute_result"
    }
   ],
   "source": [
    "text = '''hello world!!! python is a beautiful language!\n",
    "        I have started learning python in 2005.\n",
    "        Here is my lucky number 24.\n",
    "        here is my email: email@email.com and info@kgptalkie.com and \n",
    "        udemy@kgptalkie.com\n",
    "hii\n",
    "hene\n",
    "held\n",
    "where\n",
    "when\n",
    "why'''\n",
    "\n",
    "pattern = r\"\\w+@\\w+.\\w+\"\n",
    "result = re.findall(pattern, text)\n",
    "result"
   ]
  },
  {
   "cell_type": "code",
   "execution_count": 14,
   "id": "3ddb3d53-e910-4796-8e29-49e04ea67451",
   "metadata": {},
   "outputs": [
    {
     "data": {
      "text/plain": [
       "['2025-06-29']"
      ]
     },
     "execution_count": 14,
     "metadata": {},
     "output_type": "execute_result"
    }
   ],
   "source": [
    "text = '''hello world!!! python is a beautiful language!\n",
    "        I have started learning python in 2005.\n",
    "        Here is my lucky number 24.\n",
    "        here is my email: email@email.com and info@kgptalkie.com and \n",
    "        udemy@kgptalkie.com\n",
    "\n",
    "today is 2025-06-29\n",
    "hii\n",
    "hene\n",
    "held\n",
    "where\n",
    "when\n",
    "why'''\n",
    "\n",
    "pattern = r\"(\\d{4}-\\d{2}-\\d{2})\"\n",
    "result = re.findall(pattern, text)\n",
    "result"
   ]
  },
  {
   "cell_type": "markdown",
   "id": "8cbc8b7b-f529-43ca-b238-01ab333723dc",
   "metadata": {},
   "source": [
    "## splitting\n"
   ]
  },
  {
   "cell_type": "code",
   "execution_count": 6,
   "id": "30049e52-1fc9-4fa3-bff4-626eea198958",
   "metadata": {},
   "outputs": [
    {
     "data": {
      "text/plain": [
       "['',\n",
       " ' world!!! pyt',\n",
       " ' is a beautiful language!\\n        I ',\n",
       " ' started learning pyt',\n",
       " ' in 2005.\\n        Here is my lucky number 24.\\n        ',\n",
       " ' is my email: email@email.com and info@kgptalkie.com and \\n        udemy@kgptalkie.com\\n',\n",
       " '\\n',\n",
       " '\\n',\n",
       " '\\nw',\n",
       " '\\nw',\n",
       " '\\nw',\n",
       " '']"
      ]
     },
     "execution_count": 6,
     "metadata": {},
     "output_type": "execute_result"
    }
   ],
   "source": [
    "text = '''hello world!!! python is a beautiful language!\n",
    "        I have started learning python in 2005.\n",
    "        Here is my lucky number 24.\n",
    "        here is my email: email@email.com and info@kgptalkie.com and \n",
    "        udemy@kgptalkie.com\n",
    "hii\n",
    "hene\n",
    "held\n",
    "where\n",
    "when\n",
    "why'''\n",
    "\n",
    "pattern = r\"h[a-z]+\"\n",
    "result = re.split(pattern, text)\n",
    "result"
   ]
  },
  {
   "cell_type": "markdown",
   "id": "2801dece-056c-4964-9ffa-41da137edd6e",
   "metadata": {},
   "source": [
    "## replace"
   ]
  },
  {
   "cell_type": "code",
   "execution_count": 9,
   "id": "3caeea89-ea8d-42d0-807a-23b0836b3d73",
   "metadata": {},
   "outputs": [
    {
     "data": {
      "text/plain": [
       "'**** world!!! pyt**** is a beautiful        language! \\n        I **** started learning pyt**** in 2005. \\n        Here is my mobile number: 07897432355.\\n        **** is my email: email@email.com and info@kgptalkie.com and \\n        udemy@kgptalkie.com\\n        '"
      ]
     },
     "execution_count": 9,
     "metadata": {},
     "output_type": "execute_result"
    }
   ],
   "source": [
    "text =text = \"\"\"hello world!!! python is a beautiful        language! \n",
    "        I have started learning python in 2005. \n",
    "        Here is my mobile number: 07897432355.\n",
    "        here is my email: email@email.com and info@kgptalkie.com and \n",
    "        udemy@kgptalkie.com\n",
    "        \"\"\"\n",
    "\n",
    "pattern = r\"(h[a-z]+)\"\n",
    "result = re.sub(pattern,\"****\", text)\n",
    "result"
   ]
  },
  {
   "cell_type": "code",
   "execution_count": 11,
   "id": "a7f158e5-090c-41c1-8061-96817a75039e",
   "metadata": {},
   "outputs": [
    {
     "data": {
      "text/plain": [
       "'hello world!!! python is a beautiful        language! \\n        I have started learning python in 2005. \\n        Here is my mobile number: ###@###.\\n        here is my email: email@email.com and info@kgptalkie.com and \\n        udemy@kgptalkie.com\\n        '"
      ]
     },
     "execution_count": 11,
     "metadata": {},
     "output_type": "execute_result"
    }
   ],
   "source": [
    "text = \"\"\"hello world!!! python is a beautiful        language! \n",
    "        I have started learning python in 2005. \n",
    "        Here is my mobile number: 07897432355.\n",
    "        here is my email: email@email.com and info@kgptalkie.com and \n",
    "        udemy@kgptalkie.com\n",
    "        \"\"\"\n",
    "\n",
    "pattern = r\"(\\d{11})\"\n",
    "result = re.sub(pattern, \"###@###\", text)\n",
    "result"
   ]
  },
  {
   "cell_type": "code",
   "execution_count": null,
   "id": "e7721d2d-409d-4094-903f-c81b82789fb7",
   "metadata": {},
   "outputs": [],
   "source": [
    "text = \"\"\"hello world!!! python is a beautiful        language! \n",
    "        I have started learning python in 2005. \n",
    "        Here is my mobile number: 07897432355.\n",
    "        here is my email: email@email.com and info@kgptalkie.com and \n",
    "        udemy@kgptalkie.com\n",
    "        \"\"\"\n",
    "\n",
    "pattern = r\"(^h[a-z]+)\"\n",
    "result = re.findall(pattern, text)\n",
    "result"
   ]
  },
  {
   "cell_type": "code",
   "execution_count": null,
   "id": "559c4e3c-9a03-4dad-ade0-0d38d3c16f0f",
   "metadata": {},
   "outputs": [],
   "source": [
    "def replace_with_star(match):\n",
    "    return \"*\" * len(match.group)\n",
    "\n",
    "pattern = r\"(^h[a-z]+)\"\n",
    "result = re.findall(pattern, text)\n",
    "result"
   ]
  },
  {
   "cell_type": "code",
   "execution_count": null,
   "id": "f318814f-5aa3-4b50-b5c9-0ef048ac9a82",
   "metadata": {},
   "outputs": [],
   "source": [
    "text = \"\"\"hello world!!! python is a beautiful        language! \n",
    "        I have started learning python in 2005. \n",
    "        Here is my mobile number: 07897432355.\n",
    "        here is my email: email@email.com and info@kgptalkie.com and \n",
    "        udemy@kgptalkie.com\n",
    "        \"\"\"\n",
    "\n",
    "pattern = r\"(^h[a-z]+)\"\n",
    "result = re.findall(pattern, text)\n",
    "result"
   ]
  },
  {
   "cell_type": "code",
   "execution_count": 3,
   "id": "bffd28b3-e77e-4af9-bd17-643dcf61c2ae",
   "metadata": {},
   "outputs": [],
   "source": [
    "check = \"\"\"i am happy while learning python\n",
    "i am learning python since 2023.\n",
    "i have learnid a lot in these days.\n",
    "my emailid is myname123@gmail.com\n",
    "my phone number is 4589125873.\"\"\""
   ]
  },
  {
   "cell_type": "code",
   "execution_count": 23,
   "id": "e3df4f73-8045-4a37-937f-ac28ef00e9f6",
   "metadata": {},
   "outputs": [],
   "source": [
    "def replace_with_star(match):\n",
    "    return \"*\" * len(match.group())"
   ]
  },
  {
   "cell_type": "code",
   "execution_count": 16,
   "id": "1f27a4ff-af53-40f9-80da-348b42a573d9",
   "metadata": {},
   "outputs": [
    {
     "data": {
      "text/plain": [
       "['4589125873']"
      ]
     },
     "execution_count": 16,
     "metadata": {},
     "output_type": "execute_result"
    }
   ],
   "source": [
    "pattern = \"(\\d{10})\"\n",
    "result = re.findall(pattern , check)\n",
    "result"
   ]
  },
  {
   "cell_type": "code",
   "execution_count": 4,
   "id": "aacf6f5b-4eab-4312-8945-76caa141d68f",
   "metadata": {},
   "outputs": [
    {
     "name": "stdout",
     "output_type": "stream",
     "text": [
      "['i am happy while learning python\\ni am learning python since ', '.\\ni have learnid a lot in these days.\\nmy emailid is myname', '@gmail.com\\nmy phone number is ', '.']\n"
     ]
    }
   ],
   "source": [
    "pattern = r'\\d+'\n",
    "result = re.split(pattern=pattern, string=check)\n",
    "print(result)"
   ]
  },
  {
   "cell_type": "code",
   "execution_count": null,
   "id": "057028b3-9f81-427a-b670-b18c4b531ec5",
   "metadata": {},
   "outputs": [],
   "source": []
  },
  {
   "cell_type": "code",
   "execution_count": 22,
   "id": "19bd97dc-ba60-493a-b38a-3274d150a927",
   "metadata": {},
   "outputs": [
    {
     "name": "stdout",
     "output_type": "stream",
     "text": [
      "i am happy while learning python\n",
      "i am learning python since 2023.\n",
      "i have learnid a lot in these days.\n",
      "my emailid is myname123@gmail.com\n",
      "my phone number is **********.\n"
     ]
    }
   ],
   "source": [
    "def replace_with_star(match):\n",
    "    return '*' * len(match.group())\n",
    "\n",
    "pattern = r'0?\\d{10}'\n",
    "result = re.sub(pattern, replace_with_star, check)\n",
    "print(result)"
   ]
  },
  {
   "cell_type": "code",
   "execution_count": 1,
   "id": "3236709b-72a2-48f2-a739-c0707bfdd2aa",
   "metadata": {},
   "outputs": [],
   "source": [
    "import nltk\n",
    "import spacy\n"
   ]
  },
  {
   "cell_type": "code",
   "execution_count": 2,
   "id": "f43838c4-8a60-4839-8797-f7ef708d7816",
   "metadata": {},
   "outputs": [],
   "source": [
    "nlp = spacy.load(\"en_core_web_sm\")"
   ]
  },
  {
   "cell_type": "code",
   "execution_count": null,
   "id": "542f58d6-cf52-4f7f-ad96-9162047da6b9",
   "metadata": {},
   "outputs": [],
   "source": [
    "text = \"i am your master and it is require to do mean.\"\n",
    "doc = nlp(text)\n",
    "token.pos_(doc)"
   ]
  },
  {
   "cell_type": "code",
   "execution_count": null,
   "id": "2e0b4f5c-ff35-486c-91cc-e61529a695e2",
   "metadata": {},
   "outputs": [],
   "source": []
  }
 ],
 "metadata": {
  "kernelspec": {
   "display_name": "Python [conda env:nlp_env]",
   "language": "python",
   "name": "conda-env-nlp_env-py"
  },
  "language_info": {
   "codemirror_mode": {
    "name": "ipython",
    "version": 3
   },
   "file_extension": ".py",
   "mimetype": "text/x-python",
   "name": "python",
   "nbconvert_exporter": "python",
   "pygments_lexer": "ipython3",
   "version": "3.10.18"
  }
 },
 "nbformat": 4,
 "nbformat_minor": 5
}
